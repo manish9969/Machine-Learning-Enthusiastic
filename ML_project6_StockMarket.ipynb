{
 "cells": [
  {
   "cell_type": "markdown",
   "metadata": {},
   "source": [
    "#  Libraries "
   ]
  },
  {
   "cell_type": "code",
   "execution_count": 70,
   "metadata": {},
   "outputs": [],
   "source": [
    "import numpy as np\n",
    "import pandas as pd\n",
    "import matplotlib.pyplot as plt\n",
    "import seaborn as sns\n",
    "from scipy.stats import randint\n",
    "import warnings\n",
    "warnings.filterwarnings('ignore')\n",
    "\n",
    "#Model\n",
    "import sklearn\n",
    "from sklearn.linear_model import LinearRegression\n",
    "from sklearn.ensemble import RandomForestRegressor\n",
    "from sklearn.model_selection import RandomizedSearchCV\n",
    "from sklearn.model_selection import train_test_split, cross_val_score\n",
    "\n",
    "\n",
    "#Metrics\n",
    "import sklearn.metrics as metrics"
   ]
  },
  {
   "cell_type": "code",
   "execution_count": 2,
   "metadata": {},
   "outputs": [],
   "source": [
    "df = pd.read_csv(r'E:\\DS\\ML\\project\\ML_project6_StockMarket\\data.txt')"
   ]
  },
  {
   "cell_type": "code",
   "execution_count": 3,
   "metadata": {},
   "outputs": [
    {
     "data": {
      "text/html": [
       "<div>\n",
       "<style scoped>\n",
       "    .dataframe tbody tr th:only-of-type {\n",
       "        vertical-align: middle;\n",
       "    }\n",
       "\n",
       "    .dataframe tbody tr th {\n",
       "        vertical-align: top;\n",
       "    }\n",
       "\n",
       "    .dataframe thead th {\n",
       "        text-align: right;\n",
       "    }\n",
       "</style>\n",
       "<table border=\"1\" class=\"dataframe\">\n",
       "  <thead>\n",
       "    <tr style=\"text-align: right;\">\n",
       "      <th></th>\n",
       "      <th>Date</th>\n",
       "      <th>Open</th>\n",
       "      <th>High</th>\n",
       "      <th>Low</th>\n",
       "      <th>Close</th>\n",
       "      <th>Volume</th>\n",
       "      <th>OpenInt</th>\n",
       "    </tr>\n",
       "  </thead>\n",
       "  <tbody>\n",
       "    <tr>\n",
       "      <th>0</th>\n",
       "      <td>1970-01-02</td>\n",
       "      <td>2.2972</td>\n",
       "      <td>2.3178</td>\n",
       "      <td>2.2972</td>\n",
       "      <td>2.2972</td>\n",
       "      <td>26437</td>\n",
       "      <td>0</td>\n",
       "    </tr>\n",
       "    <tr>\n",
       "      <th>1</th>\n",
       "      <td>1970-01-05</td>\n",
       "      <td>2.2972</td>\n",
       "      <td>2.2972</td>\n",
       "      <td>2.2544</td>\n",
       "      <td>2.2759</td>\n",
       "      <td>29887</td>\n",
       "      <td>0</td>\n",
       "    </tr>\n",
       "    <tr>\n",
       "      <th>2</th>\n",
       "      <td>1970-01-06</td>\n",
       "      <td>2.2759</td>\n",
       "      <td>2.2759</td>\n",
       "      <td>2.2342</td>\n",
       "      <td>2.2342</td>\n",
       "      <td>106900</td>\n",
       "      <td>0</td>\n",
       "    </tr>\n",
       "    <tr>\n",
       "      <th>3</th>\n",
       "      <td>1970-01-07</td>\n",
       "      <td>2.2342</td>\n",
       "      <td>2.2342</td>\n",
       "      <td>2.2342</td>\n",
       "      <td>2.2342</td>\n",
       "      <td>85061</td>\n",
       "      <td>0</td>\n",
       "    </tr>\n",
       "    <tr>\n",
       "      <th>4</th>\n",
       "      <td>1970-01-08</td>\n",
       "      <td>2.2342</td>\n",
       "      <td>2.2342</td>\n",
       "      <td>2.2139</td>\n",
       "      <td>2.2139</td>\n",
       "      <td>66669</td>\n",
       "      <td>0</td>\n",
       "    </tr>\n",
       "    <tr>\n",
       "      <th>...</th>\n",
       "      <td>...</td>\n",
       "      <td>...</td>\n",
       "      <td>...</td>\n",
       "      <td>...</td>\n",
       "      <td>...</td>\n",
       "      <td>...</td>\n",
       "      <td>...</td>\n",
       "    </tr>\n",
       "    <tr>\n",
       "      <th>12069</th>\n",
       "      <td>2017-11-06</td>\n",
       "      <td>47.2000</td>\n",
       "      <td>47.6800</td>\n",
       "      <td>46.5300</td>\n",
       "      <td>47.2900</td>\n",
       "      <td>1725638</td>\n",
       "      <td>0</td>\n",
       "    </tr>\n",
       "    <tr>\n",
       "      <th>12070</th>\n",
       "      <td>2017-11-07</td>\n",
       "      <td>47.1100</td>\n",
       "      <td>47.2042</td>\n",
       "      <td>46.5400</td>\n",
       "      <td>46.9700</td>\n",
       "      <td>2168351</td>\n",
       "      <td>0</td>\n",
       "    </tr>\n",
       "    <tr>\n",
       "      <th>12071</th>\n",
       "      <td>2017-11-08</td>\n",
       "      <td>46.7300</td>\n",
       "      <td>46.7700</td>\n",
       "      <td>45.3700</td>\n",
       "      <td>45.8900</td>\n",
       "      <td>3347930</td>\n",
       "      <td>0</td>\n",
       "    </tr>\n",
       "    <tr>\n",
       "      <th>12072</th>\n",
       "      <td>2017-11-09</td>\n",
       "      <td>44.7100</td>\n",
       "      <td>44.7100</td>\n",
       "      <td>43.1100</td>\n",
       "      <td>43.3300</td>\n",
       "      <td>7671810</td>\n",
       "      <td>0</td>\n",
       "    </tr>\n",
       "    <tr>\n",
       "      <th>12073</th>\n",
       "      <td>2017-11-10</td>\n",
       "      <td>42.9300</td>\n",
       "      <td>44.4600</td>\n",
       "      <td>42.7500</td>\n",
       "      <td>43.0100</td>\n",
       "      <td>4463839</td>\n",
       "      <td>0</td>\n",
       "    </tr>\n",
       "  </tbody>\n",
       "</table>\n",
       "<p>12074 rows × 7 columns</p>\n",
       "</div>"
      ],
      "text/plain": [
       "             Date     Open     High      Low    Close   Volume  OpenInt\n",
       "0      1970-01-02   2.2972   2.3178   2.2972   2.2972    26437        0\n",
       "1      1970-01-05   2.2972   2.2972   2.2544   2.2759    29887        0\n",
       "2      1970-01-06   2.2759   2.2759   2.2342   2.2342   106900        0\n",
       "3      1970-01-07   2.2342   2.2342   2.2342   2.2342    85061        0\n",
       "4      1970-01-08   2.2342   2.2342   2.2139   2.2139    66669        0\n",
       "...           ...      ...      ...      ...      ...      ...      ...\n",
       "12069  2017-11-06  47.2000  47.6800  46.5300  47.2900  1725638        0\n",
       "12070  2017-11-07  47.1100  47.2042  46.5400  46.9700  2168351        0\n",
       "12071  2017-11-08  46.7300  46.7700  45.3700  45.8900  3347930        0\n",
       "12072  2017-11-09  44.7100  44.7100  43.1100  43.3300  7671810        0\n",
       "12073  2017-11-10  42.9300  44.4600  42.7500  43.0100  4463839        0\n",
       "\n",
       "[12074 rows x 7 columns]"
      ]
     },
     "execution_count": 3,
     "metadata": {},
     "output_type": "execute_result"
    }
   ],
   "source": [
    "df"
   ]
  },
  {
   "cell_type": "markdown",
   "metadata": {},
   "source": [
    "# A) EDA "
   ]
  },
  {
   "cell_type": "markdown",
   "metadata": {},
   "source": [
    "## 1. Check Missing values and Data types of data"
   ]
  },
  {
   "cell_type": "code",
   "execution_count": 4,
   "metadata": {},
   "outputs": [
    {
     "data": {
      "text/plain": [
       "Date       0\n",
       "Open       0\n",
       "High       0\n",
       "Low        0\n",
       "Close      0\n",
       "Volume     0\n",
       "OpenInt    0\n",
       "dtype: int64"
      ]
     },
     "execution_count": 4,
     "metadata": {},
     "output_type": "execute_result"
    }
   ],
   "source": [
    "df.isnull().sum()"
   ]
  },
  {
   "cell_type": "code",
   "execution_count": 5,
   "metadata": {
    "scrolled": true
   },
   "outputs": [
    {
     "data": {
      "text/plain": [
       "Date        object\n",
       "Open       float64\n",
       "High       float64\n",
       "Low        float64\n",
       "Close      float64\n",
       "Volume       int64\n",
       "OpenInt      int64\n",
       "dtype: object"
      ]
     },
     "execution_count": 5,
     "metadata": {},
     "output_type": "execute_result"
    }
   ],
   "source": [
    "df.dtypes"
   ]
  },
  {
   "cell_type": "markdown",
   "metadata": {},
   "source": [
    "In Data only Date is string datatypes rest all are Int, Float  "
   ]
  },
  {
   "cell_type": "markdown",
   "metadata": {},
   "source": [
    "## 2. Create 'year' column from given 'Date' column"
   ]
  },
  {
   "cell_type": "code",
   "execution_count": 6,
   "metadata": {},
   "outputs": [
    {
     "data": {
      "text/html": [
       "<div>\n",
       "<style scoped>\n",
       "    .dataframe tbody tr th:only-of-type {\n",
       "        vertical-align: middle;\n",
       "    }\n",
       "\n",
       "    .dataframe tbody tr th {\n",
       "        vertical-align: top;\n",
       "    }\n",
       "\n",
       "    .dataframe thead th {\n",
       "        text-align: right;\n",
       "    }\n",
       "</style>\n",
       "<table border=\"1\" class=\"dataframe\">\n",
       "  <thead>\n",
       "    <tr style=\"text-align: right;\">\n",
       "      <th></th>\n",
       "      <th>Date</th>\n",
       "      <th>Open</th>\n",
       "      <th>High</th>\n",
       "      <th>Low</th>\n",
       "      <th>Close</th>\n",
       "      <th>Volume</th>\n",
       "      <th>OpenInt</th>\n",
       "      <th>Year</th>\n",
       "    </tr>\n",
       "  </thead>\n",
       "  <tbody>\n",
       "    <tr>\n",
       "      <th>0</th>\n",
       "      <td>1970-01-02</td>\n",
       "      <td>2.2972</td>\n",
       "      <td>2.3178</td>\n",
       "      <td>2.2972</td>\n",
       "      <td>2.2972</td>\n",
       "      <td>26437</td>\n",
       "      <td>0</td>\n",
       "      <td>1970</td>\n",
       "    </tr>\n",
       "    <tr>\n",
       "      <th>1</th>\n",
       "      <td>1970-01-05</td>\n",
       "      <td>2.2972</td>\n",
       "      <td>2.2972</td>\n",
       "      <td>2.2544</td>\n",
       "      <td>2.2759</td>\n",
       "      <td>29887</td>\n",
       "      <td>0</td>\n",
       "      <td>1970</td>\n",
       "    </tr>\n",
       "    <tr>\n",
       "      <th>2</th>\n",
       "      <td>1970-01-06</td>\n",
       "      <td>2.2759</td>\n",
       "      <td>2.2759</td>\n",
       "      <td>2.2342</td>\n",
       "      <td>2.2342</td>\n",
       "      <td>106900</td>\n",
       "      <td>0</td>\n",
       "      <td>1970</td>\n",
       "    </tr>\n",
       "    <tr>\n",
       "      <th>3</th>\n",
       "      <td>1970-01-07</td>\n",
       "      <td>2.2342</td>\n",
       "      <td>2.2342</td>\n",
       "      <td>2.2342</td>\n",
       "      <td>2.2342</td>\n",
       "      <td>85061</td>\n",
       "      <td>0</td>\n",
       "      <td>1970</td>\n",
       "    </tr>\n",
       "    <tr>\n",
       "      <th>4</th>\n",
       "      <td>1970-01-08</td>\n",
       "      <td>2.2342</td>\n",
       "      <td>2.2342</td>\n",
       "      <td>2.2139</td>\n",
       "      <td>2.2139</td>\n",
       "      <td>66669</td>\n",
       "      <td>0</td>\n",
       "      <td>1970</td>\n",
       "    </tr>\n",
       "  </tbody>\n",
       "</table>\n",
       "</div>"
      ],
      "text/plain": [
       "        Date    Open    High     Low   Close  Volume  OpenInt  Year\n",
       "0 1970-01-02  2.2972  2.3178  2.2972  2.2972   26437        0  1970\n",
       "1 1970-01-05  2.2972  2.2972  2.2544  2.2759   29887        0  1970\n",
       "2 1970-01-06  2.2759  2.2759  2.2342  2.2342  106900        0  1970\n",
       "3 1970-01-07  2.2342  2.2342  2.2342  2.2342   85061        0  1970\n",
       "4 1970-01-08  2.2342  2.2342  2.2139  2.2139   66669        0  1970"
      ]
     },
     "execution_count": 6,
     "metadata": {},
     "output_type": "execute_result"
    }
   ],
   "source": [
    "df['Date'] = pd.to_datetime(df['Date'])  # convert coln into Date datatype\n",
    "df['Year'] = df['Date'].dt.year # year coln created \n",
    "df.head()"
   ]
  },
  {
   "cell_type": "markdown",
   "metadata": {},
   "source": [
    "## 3. Drop OpenInt column it haves all same value no variations "
   ]
  },
  {
   "cell_type": "code",
   "execution_count": 7,
   "metadata": {
    "scrolled": true
   },
   "outputs": [
    {
     "data": {
      "text/html": [
       "<div>\n",
       "<style scoped>\n",
       "    .dataframe tbody tr th:only-of-type {\n",
       "        vertical-align: middle;\n",
       "    }\n",
       "\n",
       "    .dataframe tbody tr th {\n",
       "        vertical-align: top;\n",
       "    }\n",
       "\n",
       "    .dataframe thead th {\n",
       "        text-align: right;\n",
       "    }\n",
       "</style>\n",
       "<table border=\"1\" class=\"dataframe\">\n",
       "  <thead>\n",
       "    <tr style=\"text-align: right;\">\n",
       "      <th></th>\n",
       "      <th>Date</th>\n",
       "      <th>Open</th>\n",
       "      <th>High</th>\n",
       "      <th>Low</th>\n",
       "      <th>Close</th>\n",
       "      <th>Volume</th>\n",
       "      <th>Year</th>\n",
       "    </tr>\n",
       "  </thead>\n",
       "  <tbody>\n",
       "    <tr>\n",
       "      <th>0</th>\n",
       "      <td>1970-01-02</td>\n",
       "      <td>2.2972</td>\n",
       "      <td>2.3178</td>\n",
       "      <td>2.2972</td>\n",
       "      <td>2.2972</td>\n",
       "      <td>26437</td>\n",
       "      <td>1970</td>\n",
       "    </tr>\n",
       "    <tr>\n",
       "      <th>1</th>\n",
       "      <td>1970-01-05</td>\n",
       "      <td>2.2972</td>\n",
       "      <td>2.2972</td>\n",
       "      <td>2.2544</td>\n",
       "      <td>2.2759</td>\n",
       "      <td>29887</td>\n",
       "      <td>1970</td>\n",
       "    </tr>\n",
       "    <tr>\n",
       "      <th>2</th>\n",
       "      <td>1970-01-06</td>\n",
       "      <td>2.2759</td>\n",
       "      <td>2.2759</td>\n",
       "      <td>2.2342</td>\n",
       "      <td>2.2342</td>\n",
       "      <td>106900</td>\n",
       "      <td>1970</td>\n",
       "    </tr>\n",
       "    <tr>\n",
       "      <th>3</th>\n",
       "      <td>1970-01-07</td>\n",
       "      <td>2.2342</td>\n",
       "      <td>2.2342</td>\n",
       "      <td>2.2342</td>\n",
       "      <td>2.2342</td>\n",
       "      <td>85061</td>\n",
       "      <td>1970</td>\n",
       "    </tr>\n",
       "    <tr>\n",
       "      <th>4</th>\n",
       "      <td>1970-01-08</td>\n",
       "      <td>2.2342</td>\n",
       "      <td>2.2342</td>\n",
       "      <td>2.2139</td>\n",
       "      <td>2.2139</td>\n",
       "      <td>66669</td>\n",
       "      <td>1970</td>\n",
       "    </tr>\n",
       "  </tbody>\n",
       "</table>\n",
       "</div>"
      ],
      "text/plain": [
       "        Date    Open    High     Low   Close  Volume  Year\n",
       "0 1970-01-02  2.2972  2.3178  2.2972  2.2972   26437  1970\n",
       "1 1970-01-05  2.2972  2.2972  2.2544  2.2759   29887  1970\n",
       "2 1970-01-06  2.2759  2.2759  2.2342  2.2342  106900  1970\n",
       "3 1970-01-07  2.2342  2.2342  2.2342  2.2342   85061  1970\n",
       "4 1970-01-08  2.2342  2.2342  2.2139  2.2139   66669  1970"
      ]
     },
     "execution_count": 7,
     "metadata": {},
     "output_type": "execute_result"
    }
   ],
   "source": [
    "df.drop('OpenInt',axis=1, inplace=True)\n",
    "df.head()"
   ]
  },
  {
   "cell_type": "markdown",
   "metadata": {},
   "source": [
    "## 4. StockMarket Closing amount varaitions in all years   "
   ]
  },
  {
   "cell_type": "code",
   "execution_count": 8,
   "metadata": {},
   "outputs": [
    {
     "data": {
      "image/png": "[encoded data removed]",
      "text/plain": [
       "<Figure size 648x360 with 1 Axes>"
      ]
     },
     "metadata": {
      "needs_background": "light"
     },
     "output_type": "display_data"
    }
   ],
   "source": [
    "df.index=df['Year']\n",
    "plt.figure(figsize=(9,5))\n",
    "plt.plot(df['Close']);"
   ]
  },
  {
   "cell_type": "markdown",
   "metadata": {},
   "source": [
    "From above we can see at initial stage closing price is very less and in year between 2000-2010 closing amount suddenly increase. "
   ]
  },
  {
   "cell_type": "markdown",
   "metadata": {},
   "source": [
    "## 5. coorelations  in all Features"
   ]
  },
  {
   "cell_type": "code",
   "execution_count": 9,
   "metadata": {},
   "outputs": [
    {
     "data": {
      "text/plain": [
       "<AxesSubplot:>"
      ]
     },
     "execution_count": 9,
     "metadata": {},
     "output_type": "execute_result"
    },
    {
     "data": {
      "image/png": "[encoded data removed]",
      "text/plain": [
       "<Figure size 720x360 with 2 Axes>"
      ]
     },
     "metadata": {
      "needs_background": "light"
     },
     "output_type": "display_data"
    }
   ],
   "source": [
    "plt.figure(figsize=(10,5))\n",
    "sns.heatmap(df.corr(), annot=True)"
   ]
  },
  {
   "cell_type": "markdown",
   "metadata": {},
   "source": [
    "### From above Open,High,Low,Close features has same variations in given dataset \n",
    "### Ultimately Profit is calculated by loss, so lets consider as 'Close' as a Target Variable. "
   ]
  },
  {
   "cell_type": "markdown",
   "metadata": {},
   "source": [
    "'year' & 'Volume', features has less impact on Target variable ie.'Close'    "
   ]
  },
  {
   "cell_type": "markdown",
   "metadata": {},
   "source": [
    "## 6. Final Dataset for prediction from above analysis is"
   ]
  },
  {
   "cell_type": "code",
   "execution_count": 10,
   "metadata": {},
   "outputs": [
    {
     "data": {
      "text/html": [
       "<div>\n",
       "<style scoped>\n",
       "    .dataframe tbody tr th:only-of-type {\n",
       "        vertical-align: middle;\n",
       "    }\n",
       "\n",
       "    .dataframe tbody tr th {\n",
       "        vertical-align: top;\n",
       "    }\n",
       "\n",
       "    .dataframe thead th {\n",
       "        text-align: right;\n",
       "    }\n",
       "</style>\n",
       "<table border=\"1\" class=\"dataframe\">\n",
       "  <thead>\n",
       "    <tr style=\"text-align: right;\">\n",
       "      <th></th>\n",
       "      <th>Open</th>\n",
       "      <th>High</th>\n",
       "      <th>Low</th>\n",
       "      <th>Close</th>\n",
       "    </tr>\n",
       "    <tr>\n",
       "      <th>Year</th>\n",
       "      <th></th>\n",
       "      <th></th>\n",
       "      <th></th>\n",
       "      <th></th>\n",
       "    </tr>\n",
       "  </thead>\n",
       "  <tbody>\n",
       "    <tr>\n",
       "      <th>1970</th>\n",
       "      <td>2.2972</td>\n",
       "      <td>2.3178</td>\n",
       "      <td>2.2972</td>\n",
       "      <td>2.2972</td>\n",
       "    </tr>\n",
       "    <tr>\n",
       "      <th>1970</th>\n",
       "      <td>2.2972</td>\n",
       "      <td>2.2972</td>\n",
       "      <td>2.2544</td>\n",
       "      <td>2.2759</td>\n",
       "    </tr>\n",
       "    <tr>\n",
       "      <th>1970</th>\n",
       "      <td>2.2759</td>\n",
       "      <td>2.2759</td>\n",
       "      <td>2.2342</td>\n",
       "      <td>2.2342</td>\n",
       "    </tr>\n",
       "    <tr>\n",
       "      <th>1970</th>\n",
       "      <td>2.2342</td>\n",
       "      <td>2.2342</td>\n",
       "      <td>2.2342</td>\n",
       "      <td>2.2342</td>\n",
       "    </tr>\n",
       "    <tr>\n",
       "      <th>1970</th>\n",
       "      <td>2.2342</td>\n",
       "      <td>2.2342</td>\n",
       "      <td>2.2139</td>\n",
       "      <td>2.2139</td>\n",
       "    </tr>\n",
       "    <tr>\n",
       "      <th>...</th>\n",
       "      <td>...</td>\n",
       "      <td>...</td>\n",
       "      <td>...</td>\n",
       "      <td>...</td>\n",
       "    </tr>\n",
       "    <tr>\n",
       "      <th>2017</th>\n",
       "      <td>47.2000</td>\n",
       "      <td>47.6800</td>\n",
       "      <td>46.5300</td>\n",
       "      <td>47.2900</td>\n",
       "    </tr>\n",
       "    <tr>\n",
       "      <th>2017</th>\n",
       "      <td>47.1100</td>\n",
       "      <td>47.2042</td>\n",
       "      <td>46.5400</td>\n",
       "      <td>46.9700</td>\n",
       "    </tr>\n",
       "    <tr>\n",
       "      <th>2017</th>\n",
       "      <td>46.7300</td>\n",
       "      <td>46.7700</td>\n",
       "      <td>45.3700</td>\n",
       "      <td>45.8900</td>\n",
       "    </tr>\n",
       "    <tr>\n",
       "      <th>2017</th>\n",
       "      <td>44.7100</td>\n",
       "      <td>44.7100</td>\n",
       "      <td>43.1100</td>\n",
       "      <td>43.3300</td>\n",
       "    </tr>\n",
       "    <tr>\n",
       "      <th>2017</th>\n",
       "      <td>42.9300</td>\n",
       "      <td>44.4600</td>\n",
       "      <td>42.7500</td>\n",
       "      <td>43.0100</td>\n",
       "    </tr>\n",
       "  </tbody>\n",
       "</table>\n",
       "<p>12074 rows × 4 columns</p>\n",
       "</div>"
      ],
      "text/plain": [
       "         Open     High      Low    Close\n",
       "Year                                    \n",
       "1970   2.2972   2.3178   2.2972   2.2972\n",
       "1970   2.2972   2.2972   2.2544   2.2759\n",
       "1970   2.2759   2.2759   2.2342   2.2342\n",
       "1970   2.2342   2.2342   2.2342   2.2342\n",
       "1970   2.2342   2.2342   2.2139   2.2139\n",
       "...       ...      ...      ...      ...\n",
       "2017  47.2000  47.6800  46.5300  47.2900\n",
       "2017  47.1100  47.2042  46.5400  46.9700\n",
       "2017  46.7300  46.7700  45.3700  45.8900\n",
       "2017  44.7100  44.7100  43.1100  43.3300\n",
       "2017  42.9300  44.4600  42.7500  43.0100\n",
       "\n",
       "[12074 rows x 4 columns]"
      ]
     },
     "execution_count": 10,
     "metadata": {},
     "output_type": "execute_result"
    }
   ],
   "source": [
    "df =df[['Open', 'High','Low','Close'] ]\n",
    "df"
   ]
  },
  {
   "cell_type": "markdown",
   "metadata": {},
   "source": [
    "# B) Modelling - Linear Regression "
   ]
  },
  {
   "cell_type": "markdown",
   "metadata": {},
   "source": [
    "## 1. Split Dataset "
   ]
  },
  {
   "cell_type": "code",
   "execution_count": 11,
   "metadata": {},
   "outputs": [
    {
     "data": {
      "text/plain": [
       "Year\n",
       "1970    2.2972\n",
       "1970    2.2759\n",
       "1970    2.2342\n",
       "1970    2.2342\n",
       "1970    2.2139\n",
       "Name: Close, dtype: float64"
      ]
     },
     "execution_count": 11,
     "metadata": {},
     "output_type": "execute_result"
    }
   ],
   "source": [
    "# Independent & dependent variable\n",
    "X = df.iloc[:,:-1]\n",
    "y = df.iloc[:,-1]\n",
    "y.head()"
   ]
  },
  {
   "cell_type": "code",
   "execution_count": 12,
   "metadata": {},
   "outputs": [],
   "source": [
    "# split Train & test\n",
    "X_train,X_test,y_train,y_test = train_test_split(X,y, test_size=0.2, random_state=0)"
   ]
  },
  {
   "cell_type": "markdown",
   "metadata": {},
   "source": [
    "## 2. Training Model "
   ]
  },
  {
   "cell_type": "code",
   "execution_count": 13,
   "metadata": {},
   "outputs": [
    {
     "data": {
      "text/plain": [
       "LinearRegression()"
      ]
     },
     "execution_count": 13,
     "metadata": {},
     "output_type": "execute_result"
    }
   ],
   "source": [
    "regressor = LinearRegression()\n",
    "regressor.fit(X_train, y_train)"
   ]
  },
  {
   "cell_type": "markdown",
   "metadata": {},
   "source": [
    "## 3. Predictions"
   ]
  },
  {
   "cell_type": "code",
   "execution_count": 14,
   "metadata": {},
   "outputs": [
    {
     "name": "stdout",
     "output_type": "stream",
     "text": [
      "Accuracy:  0.9998574664919188\n"
     ]
    },
    {
     "data": {
      "image/png": "[encoded data removed]",
      "text/plain": [
       "<Figure size 432x432 with 3 Axes>"
      ]
     },
     "metadata": {
      "needs_background": "light"
     },
     "output_type": "display_data"
    }
   ],
   "source": [
    "y_pred1 = regressor.predict(X_test)\n",
    "ac = r2_score(y_test, y_pred1)\n",
    "print('Accuracy: ',ac)\n",
    "\n",
    "sns.jointplot(y_test, y_pred1, kind='reg');"
   ]
  },
  {
   "cell_type": "markdown",
   "metadata": {},
   "source": [
    "### from above Visuliasations we can see actual values represneted by scatter and predictions ie linear line are very close to each other "
   ]
  },
  {
   "cell_type": "code",
   "execution_count": 30,
   "metadata": {},
   "outputs": [
    {
     "name": "stdout",
     "output_type": "stream",
     "text": [
      "Mean Absolute error:  0.16\n",
      "Mean squared error:  0.08\n",
      "Mean squared log error:  0.0\n"
     ]
    }
   ],
   "source": [
    "# Loss Functions\n",
    "Mse = metrics.mean_squared_error(y_test,y_pred1)\n",
    "Msle = metrics.mean_squared_log_error(y_test, y_pred1)\n",
    "Mase = metrics.mean_absolute_error(y_test,y_pred1)\n",
    "\n",
    "print('Mean Absolute error: ', round(Mase,2) )\n",
    "print('Mean squared error: ', round(Mse,2) )\n",
    "print('Mean squared log error: ', round(Msle,2))"
   ]
  },
  {
   "cell_type": "markdown",
   "metadata": {},
   "source": [
    "# c) Random_Forest_regressor "
   ]
  },
  {
   "cell_type": "code",
   "execution_count": 65,
   "metadata": {},
   "outputs": [
    {
     "data": {
      "text/plain": [
       "RandomForestRegressor(n_estimators=10, random_state=0)"
      ]
     },
     "execution_count": 65,
     "metadata": {},
     "output_type": "execute_result"
    }
   ],
   "source": [
    "rf_regressor = RandomForestRegressor(n_estimators = 10,criterion ='mse', random_state=0)\n",
    "rf_regressor.fit(X_train,y_train)"
   ]
  },
  {
   "cell_type": "markdown",
   "metadata": {},
   "source": [
    "## 1. Predictions "
   ]
  },
  {
   "cell_type": "code",
   "execution_count": 66,
   "metadata": {},
   "outputs": [
    {
     "name": "stdout",
     "output_type": "stream",
     "text": [
      "Accuracy:  0.9997805548478433\n"
     ]
    }
   ],
   "source": [
    "y_pred2 = rf_regressor.predict(X_test)\n",
    "ac = r2_score(y_test,y_pred2)\n",
    "print('Accuracy: ',ac)"
   ]
  },
  {
   "cell_type": "code",
   "execution_count": 67,
   "metadata": {},
   "outputs": [
    {
     "name": "stdout",
     "output_type": "stream",
     "text": [
      "Cross_validation_score 0.9806057998383148\n"
     ]
    }
   ],
   "source": [
    "cv = cross_val_score(rf_regressor, X,y, cv=10 ).mean()\n",
    "print('Cross_validation_score', cv)"
   ]
  },
  {
   "cell_type": "markdown",
   "metadata": {},
   "source": [
    "### Difference between accuracy& Cv score is not much hence Model is Stable"
   ]
  },
  {
   "cell_type": "markdown",
   "metadata": {},
   "source": [
    "## 2. Visualisation "
   ]
  },
  {
   "cell_type": "code",
   "execution_count": 128,
   "metadata": {
    "scrolled": true
   },
   "outputs": [
    {
     "data": {
      "image/png": "[encoded data removed]",
      "text/plain": [
       "<Figure size 432x432 with 3 Axes>"
      ]
     },
     "metadata": {
      "needs_background": "light"
     },
     "output_type": "display_data"
    }
   ],
   "source": [
    "sns.jointplot(y_test,y_pred1, color='red', kind='reg');"
   ]
  },
  {
   "cell_type": "markdown",
   "metadata": {},
   "source": [
    "# D) Hypertuning RandomForest regressor "
   ]
  },
  {
   "cell_type": "markdown",
   "metadata": {},
   "source": [
    "## 1.  RandomizedSearchCV"
   ]
  },
  {
   "cell_type": "code",
   "execution_count": 76,
   "metadata": {},
   "outputs": [
    {
     "name": "stdout",
     "output_type": "stream",
     "text": [
      "{'max_depth': [3, 5, 10, None], 'n_estimators': [10, 100, 200, 300, 400, 500], 'max_features': <scipy.stats._distn_infrastructure.rv_frozen object at 0x0000022643F786C8>, 'min_samples_split': [2, 5, 10], 'min_samples_leaf': <scipy.stats._distn_infrastructure.rv_frozen object at 0x0000022643D30648>, 'bootstrap': [True, False]}\n"
     ]
    }
   ],
   "source": [
    "# All this procedure will decide best parameter just give each parameter limits/values range \n",
    "rf_pdist = {   'max_depth':[3,5,10,None],\n",
    "               'n_estimators': [10,100,200,300,400,500],\n",
    "               'max_features': randint(1,3),\n",
    "               'min_samples_split': [2,5,10],\n",
    "               'min_samples_leaf': randint(1,4),\n",
    "               'bootstrap': [True,False]}\n",
    "print(rf_pdist)"
   ]
  },
  {
   "cell_type": "code",
   "execution_count": 83,
   "metadata": {},
   "outputs": [],
   "source": [
    "# create model by passing above parameter list\n",
    "est=RandomForestRegressor()\n",
    "rf_random = RandomizedSearchCV(estimator=est, param_distributions=rf_pdist,n_iter=40, cv=9, n_jobs=-1)"
   ]
  },
  {
   "cell_type": "markdown",
   "metadata": {},
   "source": [
    "## 2. Fit the Data To get best Parameters & Score"
   ]
  },
  {
   "cell_type": "code",
   "execution_count": 124,
   "metadata": {},
   "outputs": [
    {
     "name": "stdout",
     "output_type": "stream",
     "text": [
      "Best parameters:  {'bootstrap': False, 'max_depth': None, 'max_features': 1, 'min_samples_leaf': 1, 'min_samples_split': 2, 'n_estimators': 100}\n",
      "\n",
      "Best score :  0.9521750323229864\n"
     ]
    }
   ],
   "source": [
    "rf_random.fit(X,y)\n",
    "print('Best parameters: ',rf_random.best_params_)\n",
    "print('\\nBest score : ',rf_random.best_score_)"
   ]
  },
  {
   "cell_type": "markdown",
   "metadata": {},
   "source": [
    "## 3. Build Final Model with above Parameters   "
   ]
  },
  {
   "cell_type": "code",
   "execution_count": 122,
   "metadata": {},
   "outputs": [],
   "source": [
    "rfp_regressor = RandomForestRegressor(n_estimators=300, max_depth=None, max_features=2, min_samples_leaf=2,min_samples_split=5, bootstrap=True)"
   ]
  },
  {
   "cell_type": "code",
   "execution_count": 123,
   "metadata": {},
   "outputs": [
    {
     "data": {
      "text/plain": [
       "RandomForestRegressor(max_features=2, min_samples_leaf=2, min_samples_split=5,\n",
       "                      n_estimators=300)"
      ]
     },
     "execution_count": 123,
     "metadata": {},
     "output_type": "execute_result"
    }
   ],
   "source": [
    "rfp_regressor.fit(X,y)"
   ]
  },
  {
   "cell_type": "markdown",
   "metadata": {},
   "source": [
    "## 4. Predicting & accuracy  "
   ]
  },
  {
   "cell_type": "code",
   "execution_count": 127,
   "metadata": {},
   "outputs": [
    {
     "name": "stdout",
     "output_type": "stream",
     "text": [
      "Accuracy:  0.9999386602940429\n",
      "Cross_validation_score 0.9819004389982616\n"
     ]
    }
   ],
   "source": [
    "y_pred3 = rfp_regressor.predict(X_test)\n",
    "ac = r2_score(y_test, y_pred3)\n",
    "print('Accuracy: ',ac)\n",
    "\n",
    "cv = cross_val_score(rfp_regressor, X,y, cv=10 ).mean()\n",
    "print('Cross_validation_score', cv)"
   ]
  },
  {
   "cell_type": "markdown",
   "metadata": {},
   "source": [
    "## E) DeepLearning Model:  LSTM "
   ]
  },
  {
   "cell_type": "code",
   "execution_count": 138,
   "metadata": {},
   "outputs": [],
   "source": [
    "# Tensorflow Libraries\n",
    "import tensorflow as tf\n",
    "from tensorflow.keras.models import Sequential, load_model\n",
    "from tensorflow.keras.layers import Dense, Dropout, Activation, LSTM, BatchNormalization"
   ]
  },
  {
   "cell_type": "code",
   "execution_count": 161,
   "metadata": {},
   "outputs": [],
   "source": [
    "# converting into array for further use\n",
    "X_train= np.array(X_train)\n",
    "y_train= np.array(y_train)\n",
    "X_train = X_train.reshape(X_train.shape[0],X_train.shape[1],1) # reshape(Row, coln, input_dim)\n",
    "\n",
    "X_test= np.array(X_test)\n",
    "X_test = X_test.reshape(X_test.shape[0],X_test.shape[1],1)"
   ]
  },
  {
   "cell_type": "markdown",
   "metadata": {},
   "source": [
    "## 1. Building LSTM Model "
   ]
  },
  {
   "cell_type": "code",
   "execution_count": 182,
   "metadata": {},
   "outputs": [],
   "source": [
    "model = Sequential()\n",
    "#1st Layer\n",
    "model.add(LSTM(units=60, input_shape = (X_train.shape[1],1), return_sequences = True, dropout=0.2))\n",
    "model.add(BatchNormalization())\n",
    "\n",
    "#2nd Layer\n",
    "model.add(LSTM(units=60, dropout=0.2))\n",
    "model.add(BatchNormalization())\n",
    "\n",
    "#o/p Layer\n",
    "model.add(Dense(units=1))\n",
    "\n",
    "#compiling model\n",
    "model.compile(optimizer='adam',loss='mean_squared_error', metrics='accuracy')"
   ]
  },
  {
   "cell_type": "markdown",
   "metadata": {},
   "source": [
    "## 2. Training the Model "
   ]
  },
  {
   "cell_type": "code",
   "execution_count": 183,
   "metadata": {
    "scrolled": false
   },
   "outputs": [
    {
     "name": "stdout",
     "output_type": "stream",
     "text": [
      "Epoch 1/20\n",
      "302/302 [==============================] - 7s 7ms/step - loss: 696.1365 - accuracy: 0.0000e+00\n",
      "Epoch 2/20\n",
      "302/302 [==============================] - 2s 7ms/step - loss: 204.7291 - accuracy: 0.0000e+00\n",
      "Epoch 3/20\n",
      "302/302 [==============================] - 2s 8ms/step - loss: 38.3379 - accuracy: 0.0000e+00\n",
      "Epoch 4/20\n",
      "302/302 [==============================] - 2s 7ms/step - loss: 22.1664 - accuracy: 0.0000e+00\n",
      "Epoch 5/20\n",
      "302/302 [==============================] - 2s 7ms/step - loss: 24.2013 - accuracy: 0.0000e+00\n",
      "Epoch 6/20\n",
      "302/302 [==============================] - 2s 7ms/step - loss: 24.7796 - accuracy: 0.0000e+00\n",
      "Epoch 7/20\n",
      "302/302 [==============================] - 2s 7ms/step - loss: 23.1512 - accuracy: 0.0000e+00\n",
      "Epoch 8/20\n",
      "302/302 [==============================] - 2s 8ms/step - loss: 27.3169 - accuracy: 0.0000e+00\n",
      "Epoch 9/20\n",
      "302/302 [==============================] - 2s 7ms/step - loss: 28.2696 - accuracy: 0.0000e+00\n",
      "Epoch 10/20\n",
      "302/302 [==============================] - 2s 7ms/step - loss: 26.2193 - accuracy: 0.0000e+00\n",
      "Epoch 11/20\n",
      "302/302 [==============================] - 2s 8ms/step - loss: 28.8669 - accuracy: 0.0000e+00\n",
      "Epoch 12/20\n",
      "302/302 [==============================] - 2s 7ms/step - loss: 21.7406 - accuracy: 0.0000e+00\n",
      "Epoch 13/20\n",
      "302/302 [==============================] - 2s 8ms/step - loss: 25.2401 - accuracy: 0.0000e+00\n",
      "Epoch 14/20\n",
      "302/302 [==============================] - 3s 9ms/step - loss: 22.8315 - accuracy: 0.0000e+00\n",
      "Epoch 15/20\n",
      "302/302 [==============================] - 3s 10ms/step - loss: 23.2249 - accuracy: 0.0000e+00\n",
      "Epoch 16/20\n",
      "302/302 [==============================] - 3s 9ms/step - loss: 21.8798 - accuracy: 0.0000e+00\n",
      "Epoch 17/20\n",
      "302/302 [==============================] - 3s 10ms/step - loss: 25.8135 - accuracy: 0.0000e+00\n",
      "Epoch 18/20\n",
      "302/302 [==============================] - 3s 11ms/step - loss: 21.8206 - accuracy: 0.0000e+00\n",
      "Epoch 19/20\n",
      "302/302 [==============================] - 3s 9ms/step - loss: 24.9288 - accuracy: 0.0000e+00\n",
      "Epoch 20/20\n",
      "302/302 [==============================] - 3s 10ms/step - loss: 24.1846 - accuracy: 0.0000e+00: 1s - loss:\n"
     ]
    },
    {
     "data": {
      "text/plain": [
       "<tensorflow.python.keras.callbacks.History at 0x22678d8eac8>"
      ]
     },
     "execution_count": 183,
     "metadata": {},
     "output_type": "execute_result"
    }
   ],
   "source": [
    "model.fit(X_train,y_train, batch_size=32, epochs=20)"
   ]
  },
  {
   "cell_type": "markdown",
   "metadata": {},
   "source": [
    "## 3. visualising Prediction & actual values "
   ]
  },
  {
   "cell_type": "code",
   "execution_count": 178,
   "metadata": {},
   "outputs": [
    {
     "data": {
      "image/png": "[encoded data removed]",
      "text/plain": [
       "<Figure size 432x432 with 3 Axes>"
      ]
     },
     "metadata": {
      "needs_background": "light"
     },
     "output_type": "display_data"
    }
   ],
   "source": [
    "y_pred3 = model.predict(X_test)\n",
    "y_pred3= y_pred3.flatten()\n",
    "y_pred3.ndim\n",
    "sns.jointplot(y_test,y_pred3, color='red', kind='reg');"
   ]
  },
  {
   "cell_type": "markdown",
   "metadata": {},
   "source": [
    "# Conclusion"
   ]
  },
  {
   "cell_type": "markdown",
   "metadata": {},
   "source": [
    "### From above we applied following ML, DL algorithms we get 100% accuracy for all models as dataset contains less features we dont have much outlier in it. for Future more specific predictions we need large feature dataset  \n",
    "\n",
    "####  1. Linear Regression : Accuracy_Score :- 99.85%\n",
    "#### 2. Random_Forest Regression : Accuracy_Score :- 99.97%,  Cross_val_score:-  98.06%\n",
    "####      Which represents Best model which is stable for any data points.                                          \n",
    "\n",
    "   Huypertune :Cross_val_score:-  98.19% which shows slightly increases cv_score after hypertuning\n",
    "#### LSTM : It has minimal loss fn:-  24.186"
   ]
  },
  {
   "cell_type": "code",
   "execution_count": null,
   "metadata": {},
   "outputs": [],
   "source": []
  },
  {
   "cell_type": "code",
   "execution_count": null,
   "metadata": {},
   "outputs": [],
   "source": []
  },
  {
   "cell_type": "code",
   "execution_count": null,
   "metadata": {},
   "outputs": [],
   "source": []
  },
  {
   "cell_type": "code",
   "execution_count": null,
   "metadata": {},
   "outputs": [],
   "source": []
  }
 ],
 "metadata": {
  "kernelspec": {
   "display_name": "Python 3",
   "language": "python",
   "name": "python3"
  },
  "language_info": {
   "codemirror_mode": {
    "name": "ipython",
    "version": 3
   },
   "file_extension": ".py",
   "mimetype": "text/x-python",
   "name": "python",
   "nbconvert_exporter": "python",
   "pygments_lexer": "ipython3",
   "version": "3.7.9"
  }
 },
 "nbformat": 4,
 "nbformat_minor": 4
}
